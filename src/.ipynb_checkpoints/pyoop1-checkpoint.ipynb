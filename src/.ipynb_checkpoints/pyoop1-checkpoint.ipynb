{
 "cells": [
  {
   "cell_type": "markdown",
   "id": "5b7c03a1-ac62-4277-8b20-c093b10b1c51",
   "metadata": {},
   "source": [
    "# object has 2 characteristics:\n",
    "- attributes\n",
    "- behaviour"
   ]
  },
  {
   "cell_type": "code",
   "execution_count": 1,
   "id": "5a0d74f6-cfd8-40ba-98c5-4b6de5ee06dc",
   "metadata": {},
   "outputs": [],
   "source": [
    "class Employee:\n",
    "    '''class of employee'''\n",
    "    emp_id = 101"
   ]
  },
  {
   "cell_type": "code",
   "execution_count": 2,
   "id": "456cf02f-4549-440d-8075-fb196c1d2226",
   "metadata": {},
   "outputs": [],
   "source": [
    "e  = Employee()"
   ]
  },
  {
   "cell_type": "code",
   "execution_count": 3,
   "id": "f2db29db-2fe1-4fd4-a270-48a8292af516",
   "metadata": {},
   "outputs": [
    {
     "data": {
      "text/plain": [
       "101"
      ]
     },
     "execution_count": 3,
     "metadata": {},
     "output_type": "execute_result"
    }
   ],
   "source": [
    "e.emp_id"
   ]
  },
  {
   "cell_type": "markdown",
   "id": "c7bd42d7-9864-4649-9a69-689dfb873f00",
   "metadata": {},
   "source": [
    "- constructor"
   ]
  },
  {
   "cell_type": "markdown",
   "id": "ed3fe3a0-09f8-4ab5-a576-7d4c3a5eb716",
   "metadata": {},
   "source": [
    "- constructor used to initialize objects\n",
    "- in python we use __init__() to define constructor\n",
    "- __init__() function is called automatically every time class ie being used to create  new objects"
   ]
  },
  {
   "cell_type": "code",
   "execution_count": null,
   "id": "8a327df7-a52d-4278-9f0e-23597913de31",
   "metadata": {},
   "outputs": [],
   "source": [
    "class Employee:\n",
    "    '''employee class'''\n",
    "    def __init__(s):\n",
    "        s.emp_name = 'nainesh'\n",
    "        s.emp_id = 101\n",
    "        s.age = 30"
   ]
  }
 ],
 "metadata": {
  "kernelspec": {
   "display_name": "Python 3 (ipykernel)",
   "language": "python",
   "name": "python3"
  },
  "language_info": {
   "codemirror_mode": {
    "name": "ipython",
    "version": 3
   },
   "file_extension": ".py",
   "mimetype": "text/x-python",
   "name": "python",
   "nbconvert_exporter": "python",
   "pygments_lexer": "ipython3",
   "version": "3.9.12"
  }
 },
 "nbformat": 4,
 "nbformat_minor": 5
}
