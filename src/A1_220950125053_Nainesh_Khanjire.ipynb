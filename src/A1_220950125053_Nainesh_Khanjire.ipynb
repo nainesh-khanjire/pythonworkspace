{
 "cells": [
  {
   "cell_type": "markdown",
   "id": "c0eb6638-258d-4e45-a8d6-38c52ffdcba7",
   "metadata": {},
   "source": [
    "1. Give a call to print that is provided one string that displays the following\n",
    "#address on three separate lines.\n"
   ]
  },
  {
   "cell_type": "code",
   "execution_count": 30,
   "id": "b3ff82b7-c2c9-480d-be19-545876fc2060",
   "metadata": {},
   "outputs": [],
   "source": [
    "str  = \"\"\"C-DAC Knowledge Park,\n",
    "Old Madras Road,\n",
    "Bengaluru - 560038\"\"\" # adding multiple inverted commas sets the format fixed while printing"
   ]
  },
  {
   "cell_type": "code",
   "execution_count": 38,
   "id": "4e555416-82f2-4cfd-b256-aaf30a57cb27",
   "metadata": {},
   "outputs": [
    {
     "name": "stdout",
     "output_type": "stream",
     "text": [
      "C-DAC Knowledge Park,\n",
      "Old Madras Road,\n",
      "Bengaluru - 560038\n"
     ]
    }
   ],
   "source": [
    "print(str)"
   ]
  },
  {
   "cell_type": "markdown",
   "id": "acd8cc1e-9ffa-4597-9563-1d935e849821",
   "metadata": {},
   "source": [
    "2. Write a program which accepts the radius of a circle from the user and\n",
    "compute its area and circumference and display the output.\n"
   ]
  },
  {
   "cell_type": "code",
   "execution_count": 17,
   "id": "0a5d3658-251d-40b0-aa80-ab812a6a64d6",
   "metadata": {},
   "outputs": [
    {
     "name": "stdout",
     "output_type": "stream",
     "text": [
      "Enter radius of the circle(in meters):  20\n"
     ]
    },
    {
     "name": "stdout",
     "output_type": "stream",
     "text": [
      "Area of the circle is: 1256.8 sq. m\n",
      "Circumference of the circle is: 125.67999999999999 m\n"
     ]
    }
   ],
   "source": [
    "radius  = int(input(\"Enter radius of the circle(in meters): \"))\n",
    "PI = float(3.142) # setting value of pi constant\n",
    "\n",
    "# area of the circle is calculated using this formula >\n",
    "\n",
    "Area = PI * (radius**2)\n",
    "circumference = PI * 2 * radius \n",
    "\n",
    "print(\"Area of the circle is:\",Area,\"sq. m\")\n",
    "print(\"Circumference of the circle is:\",circumference,\"m\")"
   ]
  },
  {
   "cell_type": "markdown",
   "id": "02f723e8-66ca-4907-9aae-5dd6e1ff39e8",
   "metadata": {},
   "source": [
    "3. Write a program to display a string which is n copies of a given string. Where n is a non-negative integer.\n"
   ]
  },
  {
   "cell_type": "code",
   "execution_count": 70,
   "id": "3ad4faed-cc68-4f86-93df-0514181cdebd",
   "metadata": {},
   "outputs": [
    {
     "name": "stdout",
     "output_type": "stream",
     "text": [
      "Enter the word you want to display:  hello\n",
      "Enter the number of copies you want to display:  10\n"
     ]
    },
    {
     "name": "stdout",
     "output_type": "stream",
     "text": [
      "hellohellohellohellohellohellohellohellohellohello\n"
     ]
    }
   ],
   "source": [
    "#printing multiple copies of a string\n",
    "word = input(\"Enter the word you want to display: \")\n",
    "number = int(input(\"Enter the number of copies you want to display: \"))\n",
    "    \n",
    "print(word*number)\n"
   ]
  },
  {
   "cell_type": "markdown",
   "id": "d3214574-7014-41f1-908c-62e58c433c1f",
   "metadata": {},
   "source": [
    "4. Write a program to find whether a given number (accept number from the\n",
    "user) is even or odd, print out an appropriate message to the user. If the\n",
    "number is even, print its square and if the number is odd, print its cube.\n"
   ]
  },
  {
   "cell_type": "code",
   "execution_count": 109,
   "id": "0e7b6fa9-9c61-4d93-ad3a-35e0aad22021",
   "metadata": {},
   "outputs": [
    {
     "name": "stdout",
     "output_type": "stream",
     "text": [
      "find out the number is odd or even >>\n"
     ]
    },
    {
     "name": "stdout",
     "output_type": "stream",
     "text": [
      "Enter the number : 0\n"
     ]
    },
    {
     "name": "stdout",
     "output_type": "stream",
     "text": [
      "invalid input !!!\n",
      "Entered number is neither even nor odd\n"
     ]
    }
   ],
   "source": [
    "print(\"find out the number is odd or even >>\")\n",
    "number = int(input(\"Enter the number :\"))\n",
    "    \n",
    "if number>0 : \n",
    "    if number%2==0 :  \n",
    "        print(\"Given number is even\")\n",
    "        print(\"The square of the given number is: \",number**2)\n",
    "    else:\n",
    "        print(\"Given number is odd\")\n",
    "        print(\"The cube of the given number is: \", number**3) \n",
    "    \n",
    "else: \n",
    "    print(\"invalid input !!!\")\n",
    "    print(\"Entered number is neither even nor odd\")\n",
    "\n",
    "    "
   ]
  },
  {
   "cell_type": "markdown",
   "id": "af782a73-b631-4826-a01d-8f6abd3cd99e",
   "metadata": {},
   "source": [
    "5. Write a program to test whether a passed letter is a vowel or not. (Accept\n",
    "letter from the user)\n"
   ]
  },
  {
   "cell_type": "code",
   "execution_count": 130,
   "id": "bc276774-4932-4c95-b01f-f53ae69a1ba3",
   "metadata": {},
   "outputs": [
    {
     "name": "stdout",
     "output_type": "stream",
     "text": [
      "Enter letter to check if it's vowel or not >>\n"
     ]
    },
    {
     "name": "stdout",
     "output_type": "stream",
     "text": [
      " a\n"
     ]
    },
    {
     "name": "stdout",
     "output_type": "stream",
     "text": [
      "this is a vowel\n"
     ]
    }
   ],
   "source": [
    "print(\"Enter letter to check if it's vowel or not >>\")\n",
    "letter = input()\n",
    "\n",
    "if letter == 'a' or letter == 'e' or letter == 'i' or letter == 'o' or letter == 'u':  #a, e, i, o, u are vowels\n",
    "    print(\"this is a vowel\")\n",
    "else:\n",
    "    print(\"this is a consonant\")\n",
    "    "
   ]
  },
  {
   "cell_type": "markdown",
   "id": "35b63e0c-f4da-41f3-b389-baf4cbba1269",
   "metadata": {},
   "source": [
    "6. Write a program to implement a simple calculator that can add, subtract,\n",
    "multiply and divide two integers. Take the required operation as choice from\n",
    "the user."
   ]
  },
  {
   "cell_type": "code",
   "execution_count": 169,
   "id": "3cf46fa5-b651-4b7a-b9da-7b227ee13899",
   "metadata": {},
   "outputs": [
    {
     "name": "stdout",
     "output_type": "stream",
     "text": [
      "Enter numbers to perform calculator operations >>\n"
     ]
    },
    {
     "name": "stdout",
     "output_type": "stream",
     "text": [
      "Enter the first number:  2\n",
      "Enter the second number:  3\n"
     ]
    },
    {
     "name": "stdout",
     "output_type": "stream",
     "text": [
      "AVAILABLE OPERATIONS >> -\n",
      "1. add\n",
      "2. subtraction\n",
      "3. multplication\n",
      "4. divison\n",
      "\n"
     ]
    },
    {
     "name": "stdout",
     "output_type": "stream",
     "text": [
      "Select the opertion >  1, 2, 3, 4 : 2\n"
     ]
    },
    {
     "name": "stdout",
     "output_type": "stream",
     "text": [
      "subtraction of given numbers is -1.0\n"
     ]
    }
   ],
   "source": [
    "#calculator\n",
    "print(\"Enter numbers to perform calculator operations >>\")\n",
    "a= float(input(\"Enter the first number: \"))\n",
    "b= float(input(\"Enter the second number: \"))\n",
    "\n",
    "print(\"AVAILABLE OPERATIONS >> -\\n\" \\\n",
    "      \"1. add\\n\" \\\n",
    "      \"2. subtraction\\n\" \\\n",
    "      \"3. multplication\\n\" \\\n",
    "      \"4. divison\\n\")\n",
    "\n",
    "option = int(input(\"Select the opertion >  1, 2, 3, 4 :\"))\n",
    "\n",
    "\n",
    "if option == 1:\n",
    "    add = a+b\n",
    "    print(\"addition of given numbers is\",add)\n",
    "    \n",
    "elif option == 2:\n",
    "    subtraction = a-b\n",
    "    print(\"subtraction of given numbers is\",subtraction)\n",
    "        \n",
    "elif option == 3:\n",
    "    multiplication = a*b\n",
    "    print(\"multiplication of given numbers is \",multiplication)\n",
    "        \n",
    "elif option == 4:\n",
    "    division = a/b\n",
    "    print(\"division of given numbers is \",division)\n",
    "else:\n",
    "        print(\"enter valid input numbers\")"
   ]
  },
  {
   "cell_type": "markdown",
   "id": "78e174c3-549f-4719-bb66-afd79e9c4b62",
   "metadata": {},
   "source": [
    "7. Write a program to check whether a number is a prime number or not.\n"
   ]
  },
  {
   "cell_type": "code",
   "execution_count": 20,
   "id": "7d512691-2e20-4c85-a267-44173ebf31eb",
   "metadata": {},
   "outputs": [
    {
     "name": "stdout",
     "output_type": "stream",
     "text": [
      "Enter the number to check its prime or not:  67\n"
     ]
    },
    {
     "name": "stdout",
     "output_type": "stream",
     "text": [
      "this is a prime number\n"
     ]
    }
   ],
   "source": [
    "number = int(input(\"Enter the number to check its prime or not: \"))\n",
    "\n",
    "if number > 1:  #prime numbers are greater than 1\n",
    "     for i in range(2,int(number)+1):\n",
    "        if (number%i)==0:\n",
    "            print(number,\"this is not a prime number\")\n",
    "    \n",
    "            break\n",
    "        else:\n",
    "            print(\"this is a prime number\")\n",
    "            break\n",
    "            \n",
    "else:\n",
    "    print(number,\"this is not a prime number\")\n"
   ]
  },
  {
   "cell_type": "markdown",
   "id": "be415d26-1803-40f4-9eec-e7510e2e7ee7",
   "metadata": {},
   "source": [
    "8. Write a program to remove all the following punctuation/special characters\n",
    "from the given string.\n",
    "!()-[]{};:'\"\\,<>./?@#$%^&*_~"
   ]
  },
  {
   "cell_type": "code",
   "execution_count": 26,
   "id": "167541c4-24b8-4cf1-8abb-2df2c4776afa",
   "metadata": {},
   "outputs": [
    {
     "name": "stdout",
     "output_type": "stream",
     "text": [
      "enter the text with string: #$#&%&$^&*HELLO!@#$$%^&*(\n"
     ]
    },
    {
     "name": "stdout",
     "output_type": "stream",
     "text": [
      "HELLO\n"
     ]
    }
   ],
   "source": [
    "\n",
    "punctuations = '''!()-[]{};:'\",<>./?@#$%^&*_~'''\n",
    "\n",
    "string = input(\"enter the text with string:\")\n",
    "rm_punc = \"\"\n",
    "for char in string:\n",
    "    if char not in punctuations:\n",
    "        rm_punc = rm_punc + char\n",
    "        \n",
    "print(rm_punc) "
   ]
  }
 ],
 "metadata": {
  "kernelspec": {
   "display_name": "Python 3.9.12 64-bit ('pythonworkspace')",
   "language": "python",
   "name": "python3"
  },
  "language_info": {
   "codemirror_mode": {
    "name": "ipython",
    "version": 3
   },
   "file_extension": ".py",
   "mimetype": "text/x-python",
   "name": "python",
   "nbconvert_exporter": "python",
   "pygments_lexer": "ipython3",
   "version": "3.9.12"
  },
  "vscode": {
   "interpreter": {
    "hash": "e362d06cc908f32e8db6920f0b7bc6754cc7557171ff01d64b5f38263a887f00"
   }
  }
 },
 "nbformat": 4,
 "nbformat_minor": 5
}
