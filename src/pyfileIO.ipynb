{
 "cells": [
  {
   "cell_type": "markdown",
   "id": "92c90d86-f9f4-48f3-beac-06bc0cd9b970",
   "metadata": {},
   "source": [
    "# file IO"
   ]
  },
  {
   "cell_type": "markdown",
   "id": "57bf1f55-11a8-4bd6-81d9-72d7a9d434f6",
   "metadata": {},
   "source": [
    "- open a file\n",
    "- read or write \n",
    "- close the file"
   ]
  },
  {
   "cell_type": "code",
   "execution_count": 2,
   "id": "51733d4c-8f21-49a2-aaa6-112d279184b8",
   "metadata": {},
   "outputs": [],
   "source": [
    "#open a file\n",
    "file = open('../data/address.txt','r')"
   ]
  },
  {
   "cell_type": "code",
   "execution_count": 6,
   "id": "7b760b46-7ae6-4266-9636-be5b47526d8f",
   "metadata": {},
   "outputs": [
    {
     "data": {
      "text/plain": [
       "'\\nYour last'"
      ]
     },
     "execution_count": 6,
     "metadata": {},
     "output_type": "execute_result"
    }
   ],
   "source": [
    "# use read(size) method to read lines of the file data\n",
    "file.read(10)"
   ]
  },
  {
   "cell_type": "code",
   "execution_count": 7,
   "id": "91457150-56ab-434c-b5f7-6ff99751a99b",
   "metadata": {},
   "outputs": [
    {
     "data": {
      "text/plain": [
       "0"
      ]
     },
     "execution_count": 7,
     "metadata": {},
     "output_type": "execute_result"
    }
   ],
   "source": [
    "file.seek(0)"
   ]
  },
  {
   "cell_type": "code",
   "execution_count": 12,
   "id": "0fd79739-29ff-4e8d-83e9-64eccbbb8a3d",
   "metadata": {},
   "outputs": [
    {
     "data": {
      "text/plain": [
       "['Your name is: Nainesh\\n',\n",
       " 'Your last name is: Khanjire\\n',\n",
       " 'Your address line 1 is: Tara niwas\\n',\n",
       " 'Address line 2 is: Main street\\n',\n",
       " 'Your city is: kolhapur\\n',\n",
       " 'Your state is: Maharashtra\\n',\n",
       " 'The pincode is :416101Your name is: \\n',\n",
       " 'Your last name is: \\n',\n",
       " 'Your address line 1 is: \\n',\n",
       " 'Address line 2 is: \\n',\n",
       " 'Your city is: \\n',\n",
       " 'Your state is: \\n',\n",
       " 'The pincode is:Your name is: \\n',\n",
       " 'Your last name is: \\n',\n",
       " 'Your address line 1 is: \\n',\n",
       " 'Address line 2 is: \\n',\n",
       " 'Your city is: \\n',\n",
       " 'Your state is: \\n',\n",
       " 'The pincode is :']"
      ]
     },
     "execution_count": 12,
     "metadata": {},
     "output_type": "execute_result"
    }
   ],
   "source": [
    "file.seek(0)\n",
    "file.readlines()"
   ]
  },
  {
   "cell_type": "code",
   "execution_count": 13,
   "id": "52901d4c-e839-4848-bfb4-b2a2e4899336",
   "metadata": {},
   "outputs": [
    {
     "data": {
      "text/plain": [
       "459"
      ]
     },
     "execution_count": 13,
     "metadata": {},
     "output_type": "execute_result"
    }
   ],
   "source": [
    "file.tell()\n",
    "# this returns the curren position in number of bytes"
   ]
  },
  {
   "cell_type": "code",
   "execution_count": 15,
   "id": "2be7fcf5-3a6d-48cd-bcff-13ddb8475dca",
   "metadata": {},
   "outputs": [
    {
     "data": {
      "text/plain": [
       "'Your name is: Nainesh\\nYour last name is: Khanjire\\nYour address line 1 is: Tara niwas\\nAddress line 2 is: Main street\\nYour city is: kolhapur\\nYour state is: Maharashtra\\nThe pincode is :416101Your name is: \\nYour last name is: \\nYour address line 1 is: \\nAddress line 2 is: \\nYour city is: \\nYour state is: \\nThe pincode is:Your name is: \\nYour last name is: \\nYour address line 1 is: \\nAddress line 2 is: \\nYour city is: \\nYour state is: \\nThe pincode is :'"
      ]
     },
     "execution_count": 15,
     "metadata": {},
     "output_type": "execute_result"
    }
   ],
   "source": [
    "file.seek(0)\n",
    "file.read()"
   ]
  },
  {
   "cell_type": "code",
   "execution_count": null,
   "id": "94110180-b1d5-434b-becc-8cb5cfd83957",
   "metadata": {},
   "outputs": [],
   "source": []
  }
 ],
 "metadata": {
  "kernelspec": {
   "display_name": "Python 3 (ipykernel)",
   "language": "python",
   "name": "python3"
  },
  "language_info": {
   "codemirror_mode": {
    "name": "ipython",
    "version": 3
   },
   "file_extension": ".py",
   "mimetype": "text/x-python",
   "name": "python",
   "nbconvert_exporter": "python",
   "pygments_lexer": "ipython3",
   "version": "3.9.12"
  }
 },
 "nbformat": 4,
 "nbformat_minor": 5
}
