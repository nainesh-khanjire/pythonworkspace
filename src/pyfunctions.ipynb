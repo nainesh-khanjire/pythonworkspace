{
 "cells": [
  {
   "cell_type": "markdown",
   "id": "11eac174-4b48-4c43-861d-b71714965770",
   "metadata": {},
   "source": [
    "- block of code that runs only when called which carried out some specific well-defined task"
   ]
  },
  {
   "cell_type": "code",
   "execution_count": 1,
   "id": "10b7b913-7f67-4727-bc3a-ca085977c789",
   "metadata": {},
   "outputs": [],
   "source": [
    "def hello():\n",
    "    print(\"Hello World\")"
   ]
  },
  {
   "cell_type": "code",
   "execution_count": 2,
   "id": "402815d6-ab86-48f7-8696-eeb9b9396f9c",
   "metadata": {},
   "outputs": [
    {
     "name": "stdout",
     "output_type": "stream",
     "text": [
      "Hello World\n"
     ]
    }
   ],
   "source": [
    "hello()"
   ]
  },
  {
   "cell_type": "code",
   "execution_count": null,
   "id": "d3e5ded7-5661-4f59-af42-b39669604cd0",
   "metadata": {},
   "outputs": [],
   "source": [
    "def armstrong_number():\n",
    "    n = int(input(\"Enter a number to check if its armstrong: \"))\n",
    "    value = 0\n",
    "\n",
    "    # find cube of each digit of the number\n",
    "    temp = n\n",
    "    while temp>0:\n",
    "        digit = temp%10\n",
    "        value = value + digit**3\n",
    "        temp = temp//10\n",
    "        \n",
    "    #display the result\n",
    "    if n==value:\n",
    "        print(n,\"is an armstrong number\")\n",
    "    else:\n",
    "        print(n,\"is not an armstrong number\")"
   ]
  },
  {
   "cell_type": "code",
   "execution_count": null,
   "id": "b64b5f3e-fd05-4fc2-a09a-3ee99898266d",
   "metadata": {},
   "outputs": [],
   "source": [
    "armstrong_number()"
   ]
  },
  {
   "cell_type": "code",
   "execution_count": null,
   "id": "8d064008-d816-47cc-abd7-a1a4dc8f43cb",
   "metadata": {},
   "outputs": [],
   "source": [
    "#function to  print first and last name together\n",
    "def name(fname, lname):\n",
    "    print(fname+\" \"+lname)"
   ]
  },
  {
   "cell_type": "code",
   "execution_count": null,
   "id": "77d599b3-54e9-4b1a-9ed8-feb4088b4c8b",
   "metadata": {},
   "outputs": [],
   "source": [
    "name('nainesh', 'khanjire')"
   ]
  },
  {
   "cell_type": "code",
   "execution_count": null,
   "id": "7323c883-dc76-46f8-a781-862af81b0152",
   "metadata": {},
   "outputs": [],
   "source": [
    "#name('n')\n",
    "#passing less arguments than required"
   ]
  },
  {
   "cell_type": "markdown",
   "id": "4251fa5b-9d41-419f-9010-a35f6c8d600f",
   "metadata": {},
   "source": [
    "- **Arbitrary Argument**"
   ]
  },
  {
   "cell_type": "code",
   "execution_count": null,
   "id": "07c6a645-6a27-40ae-9820-c690a5d736ab",
   "metadata": {},
   "outputs": [],
   "source": [
    "def books(*books):\n",
    "    print('I have {0} books,'.format(len(books)))\n",
    "    print('these are the the names: ')\n",
    "    for i in books:\n",
    "        print('\\t',i)\n",
    "    "
   ]
  },
  {
   "cell_type": "code",
   "execution_count": null,
   "id": "46090e7c-d63c-45c4-bdd9-77824050a6df",
   "metadata": {},
   "outputs": [],
   "source": [
    "books('franz kafka','politics',1234)"
   ]
  },
  {
   "cell_type": "code",
   "execution_count": null,
   "id": "c857cd4d-356b-4c67-8807-450e24039d6b",
   "metadata": {},
   "outputs": [],
   "source": [
    "!pip install kiteconnect"
   ]
  },
  {
   "cell_type": "code",
   "execution_count": null,
   "id": "30e26802-dc32-42c5-8e2d-878aafe9b34d",
   "metadata": {},
   "outputs": [],
   "source": [
    "books = c()"
   ]
  }
 ],
 "metadata": {
  "kernelspec": {
   "display_name": "Python 3 (ipykernel)",
   "language": "python",
   "name": "python3"
  },
  "language_info": {
   "codemirror_mode": {
    "name": "ipython",
    "version": 3
   },
   "file_extension": ".py",
   "mimetype": "text/x-python",
   "name": "python",
   "nbconvert_exporter": "python",
   "pygments_lexer": "ipython3",
   "version": "3.9.12"
  }
 },
 "nbformat": 4,
 "nbformat_minor": 5
}
