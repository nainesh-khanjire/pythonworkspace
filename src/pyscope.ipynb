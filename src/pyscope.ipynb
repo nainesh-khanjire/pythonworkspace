{
 "cells": [
  {
   "cell_type": "markdown",
   "id": "fd93170d-eadd-4168-9332-4cb8086806e3",
   "metadata": {},
   "source": [
    "**Global Variable**\n"
   ]
  },
  {
   "cell_type": "markdown",
   "id": "e6f2b119-016b-4b13-91f2-59ed981b81f3",
   "metadata": {},
   "source": [
    "- scope of the variable"
   ]
  },
  {
   "cell_type": "code",
   "execution_count": 2,
   "id": "f217c214-9d84-4b1b-8cfe-5a71bf8c14c6",
   "metadata": {},
   "outputs": [],
   "source": [
    "x=10\n"
   ]
  },
  {
   "cell_type": "code",
   "execution_count": 3,
   "id": "4e9a5afe-fb29-4722-bdbe-90bea58bdb99",
   "metadata": {},
   "outputs": [],
   "source": [
    "\n",
    "def f():\n",
    "    print('x inside function: ',x)"
   ]
  },
  {
   "cell_type": "code",
   "execution_count": 4,
   "id": "c14aa224-6881-4b13-b96f-604ebc371034",
   "metadata": {},
   "outputs": [
    {
     "name": "stdout",
     "output_type": "stream",
     "text": [
      "x inside function:  10\n"
     ]
    }
   ],
   "source": [
    "f()"
   ]
  },
  {
   "cell_type": "code",
   "execution_count": 6,
   "id": "38781b15-9cb2-44d1-a07b-d72b9ef93d77",
   "metadata": {},
   "outputs": [
    {
     "name": "stdout",
     "output_type": "stream",
     "text": [
      "x outside function:  10\n"
     ]
    }
   ],
   "source": [
    "print('x outside function: ',x)"
   ]
  },
  {
   "cell_type": "code",
   "execution_count": 7,
   "id": "4e2a50f0-694d-40b0-82a0-b4a842b7752b",
   "metadata": {},
   "outputs": [
    {
     "name": "stdout",
     "output_type": "stream",
     "text": [
      "x inside function:  10\n",
      "x outside function:  10\n"
     ]
    }
   ],
   "source": [
    "f()\n",
    "print('x outside function: ',x)"
   ]
  },
  {
   "cell_type": "code",
   "execution_count": null,
   "id": "44cfb3eb-d0d5-4d58-b58a-a1b351e53863",
   "metadata": {},
   "outputs": [],
   "source": []
  }
 ],
 "metadata": {
  "kernelspec": {
   "display_name": "Python 3 (ipykernel)",
   "language": "python",
   "name": "python3"
  },
  "language_info": {
   "codemirror_mode": {
    "name": "ipython",
    "version": 3
   },
   "file_extension": ".py",
   "mimetype": "text/x-python",
   "name": "python",
   "nbconvert_exporter": "python",
   "pygments_lexer": "ipython3",
   "version": "3.9.12"
  }
 },
 "nbformat": 4,
 "nbformat_minor": 5
}
